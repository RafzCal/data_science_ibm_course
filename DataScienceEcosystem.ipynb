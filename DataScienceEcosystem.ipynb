{
 "cells": [
  {
   "cell_type": "markdown",
   "id": "ab9f4266-b6d1-49f3-adb7-dbce3634b685",
   "metadata": {},
   "source": [
    "# Data Science Tools and Ecosystem"
   ]
  },
  {
   "cell_type": "markdown",
   "id": "271d6978-cc88-4f5c-8237-1d07907c5db2",
   "metadata": {},
   "source": [
    "In this notebook, Data Science Tools and Ecosystem are summarized"
   ]
  },
  {
   "cell_type": "markdown",
   "id": "1aec7694-3236-4c93-bcd7-68dc72c2ab96",
   "metadata": {},
   "source": [
    "**Objectives:**\n",
    "\n",
    "- List popular languages for Data Science\n",
    "- List commonly used libraries for Data Science\n",
    "- List free Data Science Tools\n",
    "- Show few examples of arithmetic expressions in Python"
   ]
  },
  {
   "cell_type": "markdown",
   "id": "7e96955e-6792-4ea6-8530-aaa08b6f04c6",
   "metadata": {},
   "source": [
    "Some of the popular languages that Data Scientists use are:\n",
    "\n",
    "1. Python\n",
    "2. SQL\n",
    "3. R"
   ]
  },
  {
   "cell_type": "markdown",
   "id": "95d9e82a-c477-4a93-a83d-b121a9fda045",
   "metadata": {},
   "source": [
    "Some of the commonly used libraries used by Data Scientists include:\n",
    "\n",
    "1. NumPy\n",
    "2. Pandas\n",
    "3. Matplotlib\n",
    "4. Scikit-learn\n",
    "5. TensorFlow\n",
    "6. PyTorch"
   ]
  },
  {
   "cell_type": "markdown",
   "id": "a81f6bfa-9022-4f15-88cd-b9e00fb85303",
   "metadata": {},
   "source": [
    "|Data Science Tools|\n",
    "|--------|\n",
    "|Jupyter Notebook|\n",
    "|RStudio|\n",
    "|Spyder|"
   ]
  },
  {
   "cell_type": "markdown",
   "id": "21df0496-cdcf-4a8e-af1d-2b9d9d4681d4",
   "metadata": {},
   "source": [
    "### Below are a few examples of evaluating arithmetic expressions in Python"
   ]
  },
  {
   "cell_type": "code",
   "execution_count": 1,
   "id": "ddf83b0f-1746-4593-afb6-967e98519ee7",
   "metadata": {},
   "outputs": [
    {
     "data": {
      "text/plain": [
       "17"
      ]
     },
     "execution_count": 1,
     "metadata": {},
     "output_type": "execute_result"
    }
   ],
   "source": [
    "# This a simple arithmetic expression to mutiply then add integrers\n",
    "(3*4)+5"
   ]
  },
  {
   "cell_type": "code",
   "execution_count": 2,
   "id": "63a67756-f399-48cf-82f3-8b8240356e3b",
   "metadata": {},
   "outputs": [
    {
     "data": {
      "text/plain": [
       "3.3333333333333335"
      ]
     },
     "execution_count": 2,
     "metadata": {},
     "output_type": "execute_result"
    }
   ],
   "source": [
    "#This will convert 200 minutes to hours by diving by 60\n",
    "200/60"
   ]
  },
  {
   "cell_type": "markdown",
   "id": "d89cb1ed-a88a-4b3c-8371-31e408366ccb",
   "metadata": {},
   "source": [
    "## Author\n",
    "RafzCal"
   ]
  }
 ],
 "metadata": {
  "kernelspec": {
   "display_name": "Python 3 (ipykernel)",
   "language": "python",
   "name": "python3"
  },
  "language_info": {
   "codemirror_mode": {
    "name": "ipython",
    "version": 3
   },
   "file_extension": ".py",
   "mimetype": "text/x-python",
   "name": "python",
   "nbconvert_exporter": "python",
   "pygments_lexer": "ipython3",
   "version": "3.12.8"
  }
 },
 "nbformat": 4,
 "nbformat_minor": 5
}
